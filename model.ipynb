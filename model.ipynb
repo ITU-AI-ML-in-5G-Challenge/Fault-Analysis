{
 "cells": [
  {
   "cell_type": "code",
   "execution_count": 113,
   "id": "97e7c291",
   "metadata": {
    "_cell_guid": "b1076dfc-b9ad-4769-8c92-a6c4dae69d19",
    "_uuid": "8f2839f25d086af736a60e9eeb907d3b93b6e0e5",
    "execution": {
     "iopub.execute_input": "2023-08-17T10:18:03.469262Z",
     "iopub.status.busy": "2023-08-17T10:18:03.468843Z",
     "iopub.status.idle": "2023-08-17T10:18:03.501743Z",
     "shell.execute_reply": "2023-08-17T10:18:03.500656Z"
    },
    "papermill": {
     "duration": 0.057879,
     "end_time": "2023-08-17T10:18:03.504553",
     "exception": false,
     "start_time": "2023-08-17T10:18:03.446674",
     "status": "completed"
    },
    "tags": []
   },
   "outputs": [],
   "source": [
    "# Import Libraries\n",
    "import numpy as np # linear algebra\n",
    "import pandas as pd # data processing, CSV file I/O (e.g. pd.read_csv)\n",
    "import lightgbm\n",
    "from lightgbm import LGBMClassifier\n",
    "import matplotlib.pyplot as plt\n",
    "import seaborn as sns\n",
    "import warnings\n",
    "warnings.simplefilter(action='ignore', category=FutureWarning)\n"
   ]
  },
  {
   "cell_type": "code",
   "execution_count": 114,
   "id": "fa95690d",
   "metadata": {},
   "outputs": [
    {
     "data": {
      "text/plain": [
       "'3.3.2'"
      ]
     },
     "execution_count": 114,
     "metadata": {},
     "output_type": "execute_result"
    }
   ],
   "source": [
    "lightgbm.__version__"
   ]
  },
  {
   "cell_type": "code",
   "execution_count": 115,
   "id": "bf93621a",
   "metadata": {
    "execution": {
     "iopub.execute_input": "2023-08-17T10:18:03.547137Z",
     "iopub.status.busy": "2023-08-17T10:18:03.546301Z",
     "iopub.status.idle": "2023-08-17T10:18:10.954566Z",
     "shell.execute_reply": "2023-08-17T10:18:10.953555Z"
    },
    "papermill": {
     "duration": 7.431853,
     "end_time": "2023-08-17T10:18:10.957327",
     "exception": false,
     "start_time": "2023-08-17T10:18:03.525474",
     "status": "completed"
    },
    "tags": []
   },
   "outputs": [],
   "source": [
    "df = pd.read_csv(\"data/train.csv\")\n",
    "df[\"ID\"] = df[\"filename\"].str.split(\".\",expand=True)[0]\n",
    "df=df.drop(\"filename\",axis=1)\n",
    "ss = pd.read_csv(\"data/SampleSubmission.csv\")\n",
    "tdf = pd.read_csv(\"data/test.csv\")"
   ]
  },
  {
   "cell_type": "code",
   "execution_count": 116,
   "id": "4610d521",
   "metadata": {},
   "outputs": [
    {
     "data": {
      "text/html": [
       "<div>\n",
       "<style scoped>\n",
       "    .dataframe tbody tr th:only-of-type {\n",
       "        vertical-align: middle;\n",
       "    }\n",
       "\n",
       "    .dataframe tbody tr th {\n",
       "        vertical-align: top;\n",
       "    }\n",
       "\n",
       "    .dataframe thead th {\n",
       "        text-align: right;\n",
       "    }\n",
       "</style>\n",
       "<table border=\"1\" class=\"dataframe\">\n",
       "  <thead>\n",
       "    <tr style=\"text-align: right;\">\n",
       "      <th></th>\n",
       "      <th>NE ID</th>\n",
       "      <th>endTime</th>\n",
       "      <th>access_success_rate</th>\n",
       "      <th>resource_utilition_rate</th>\n",
       "      <th>TA</th>\n",
       "      <th>bler</th>\n",
       "      <th>cqi</th>\n",
       "      <th>mcs</th>\n",
       "      <th>data_rate</th>\n",
       "      <th>fault_duration</th>\n",
       "      <th>relation</th>\n",
       "      <th>ID</th>\n",
       "    </tr>\n",
       "  </thead>\n",
       "  <tbody>\n",
       "    <tr>\n",
       "      <th>0</th>\n",
       "      <td>B0001-12</td>\n",
       "      <td>2023-02-09 01:00:00</td>\n",
       "      <td>99.519744</td>\n",
       "      <td>29.417</td>\n",
       "      <td>0.636289</td>\n",
       "      <td>10.126880</td>\n",
       "      <td>8.640631</td>\n",
       "      <td>12.523579</td>\n",
       "      <td>32.209893</td>\n",
       "      <td>0.0</td>\n",
       "      <td>0.000000</td>\n",
       "      <td>B0001-12_1</td>\n",
       "    </tr>\n",
       "    <tr>\n",
       "      <th>1</th>\n",
       "      <td>B0001-12</td>\n",
       "      <td>2023-02-09 02:00:00</td>\n",
       "      <td>99.216125</td>\n",
       "      <td>15.894</td>\n",
       "      <td>0.711312</td>\n",
       "      <td>9.145678</td>\n",
       "      <td>8.749684</td>\n",
       "      <td>10.642076</td>\n",
       "      <td>37.591142</td>\n",
       "      <td>0.0</td>\n",
       "      <td>0.000000</td>\n",
       "      <td>B0001-12_1</td>\n",
       "    </tr>\n",
       "    <tr>\n",
       "      <th>2</th>\n",
       "      <td>B0001-12</td>\n",
       "      <td>2023-02-09 03:00:00</td>\n",
       "      <td>99.960815</td>\n",
       "      <td>27.401</td>\n",
       "      <td>0.689756</td>\n",
       "      <td>10.123859</td>\n",
       "      <td>9.282525</td>\n",
       "      <td>14.116277</td>\n",
       "      <td>24.761631</td>\n",
       "      <td>0.0</td>\n",
       "      <td>0.000000</td>\n",
       "      <td>B0001-12_1</td>\n",
       "    </tr>\n",
       "    <tr>\n",
       "      <th>3</th>\n",
       "      <td>B0001-12</td>\n",
       "      <td>2023-02-09 04:00:00</td>\n",
       "      <td>100.000000</td>\n",
       "      <td>19.320</td>\n",
       "      <td>0.675434</td>\n",
       "      <td>9.721365</td>\n",
       "      <td>9.465269</td>\n",
       "      <td>14.872375</td>\n",
       "      <td>42.208165</td>\n",
       "      <td>0.0</td>\n",
       "      <td>0.000000</td>\n",
       "      <td>B0001-12_1</td>\n",
       "    </tr>\n",
       "    <tr>\n",
       "      <th>4</th>\n",
       "      <td>B0001-12</td>\n",
       "      <td>2023-02-09 05:00:00</td>\n",
       "      <td>99.953315</td>\n",
       "      <td>18.154</td>\n",
       "      <td>0.646022</td>\n",
       "      <td>10.229611</td>\n",
       "      <td>9.270378</td>\n",
       "      <td>15.106532</td>\n",
       "      <td>40.002877</td>\n",
       "      <td>0.0</td>\n",
       "      <td>0.000000</td>\n",
       "      <td>B0001-12_1</td>\n",
       "    </tr>\n",
       "    <tr>\n",
       "      <th>...</th>\n",
       "      <td>...</td>\n",
       "      <td>...</td>\n",
       "      <td>...</td>\n",
       "      <td>...</td>\n",
       "      <td>...</td>\n",
       "      <td>...</td>\n",
       "      <td>...</td>\n",
       "      <td>...</td>\n",
       "      <td>...</td>\n",
       "      <td>...</td>\n",
       "      <td>...</td>\n",
       "      <td>...</td>\n",
       "    </tr>\n",
       "    <tr>\n",
       "      <th>272</th>\n",
       "      <td>B0001-12</td>\n",
       "      <td>2023-02-20 09:00:00</td>\n",
       "      <td>100.000000</td>\n",
       "      <td>16.023</td>\n",
       "      <td>0.754630</td>\n",
       "      <td>9.543981</td>\n",
       "      <td>8.789539</td>\n",
       "      <td>13.537159</td>\n",
       "      <td>38.502784</td>\n",
       "      <td>0.0</td>\n",
       "      <td>0.000000</td>\n",
       "      <td>B0001-12_1</td>\n",
       "    </tr>\n",
       "    <tr>\n",
       "      <th>273</th>\n",
       "      <td>B0001-12</td>\n",
       "      <td>2023-02-20 10:00:00</td>\n",
       "      <td>100.000000</td>\n",
       "      <td>45.113</td>\n",
       "      <td>0.759430</td>\n",
       "      <td>10.249399</td>\n",
       "      <td>8.600942</td>\n",
       "      <td>12.360695</td>\n",
       "      <td>24.524838</td>\n",
       "      <td>0.0</td>\n",
       "      <td>0.000000</td>\n",
       "      <td>B0001-12_1</td>\n",
       "    </tr>\n",
       "    <tr>\n",
       "      <th>274</th>\n",
       "      <td>B0001-12</td>\n",
       "      <td>2023-02-20 11:00:00</td>\n",
       "      <td>100.000000</td>\n",
       "      <td>45.419</td>\n",
       "      <td>0.811247</td>\n",
       "      <td>10.261306</td>\n",
       "      <td>8.565688</td>\n",
       "      <td>12.344837</td>\n",
       "      <td>21.864610</td>\n",
       "      <td>0.0</td>\n",
       "      <td>0.000000</td>\n",
       "      <td>B0001-12_1</td>\n",
       "    </tr>\n",
       "    <tr>\n",
       "      <th>275</th>\n",
       "      <td>B0001-12</td>\n",
       "      <td>2023-02-20 12:00:00</td>\n",
       "      <td>100.000000</td>\n",
       "      <td>29.382</td>\n",
       "      <td>0.763943</td>\n",
       "      <td>10.336147</td>\n",
       "      <td>8.241281</td>\n",
       "      <td>11.089316</td>\n",
       "      <td>23.253083</td>\n",
       "      <td>0.0</td>\n",
       "      <td>0.000000</td>\n",
       "      <td>B0001-12_1</td>\n",
       "    </tr>\n",
       "    <tr>\n",
       "      <th>276</th>\n",
       "      <td>B0001-12</td>\n",
       "      <td>2023-02-20 13:00:00</td>\n",
       "      <td>100.000000</td>\n",
       "      <td>28.300</td>\n",
       "      <td>0.806055</td>\n",
       "      <td>10.729635</td>\n",
       "      <td>8.060450</td>\n",
       "      <td>11.218114</td>\n",
       "      <td>23.910174</td>\n",
       "      <td>91.0</td>\n",
       "      <td>0.942467</td>\n",
       "      <td>B0001-12_1</td>\n",
       "    </tr>\n",
       "  </tbody>\n",
       "</table>\n",
       "<p>277 rows × 12 columns</p>\n",
       "</div>"
      ],
      "text/plain": [
       "        NE ID              endTime  access_success_rate  \\\n",
       "0    B0001-12  2023-02-09 01:00:00            99.519744   \n",
       "1    B0001-12  2023-02-09 02:00:00            99.216125   \n",
       "2    B0001-12  2023-02-09 03:00:00            99.960815   \n",
       "3    B0001-12  2023-02-09 04:00:00           100.000000   \n",
       "4    B0001-12  2023-02-09 05:00:00            99.953315   \n",
       "..        ...                  ...                  ...   \n",
       "272  B0001-12  2023-02-20 09:00:00           100.000000   \n",
       "273  B0001-12  2023-02-20 10:00:00           100.000000   \n",
       "274  B0001-12  2023-02-20 11:00:00           100.000000   \n",
       "275  B0001-12  2023-02-20 12:00:00           100.000000   \n",
       "276  B0001-12  2023-02-20 13:00:00           100.000000   \n",
       "\n",
       "     resource_utilition_rate        TA       bler       cqi        mcs  \\\n",
       "0                     29.417  0.636289  10.126880  8.640631  12.523579   \n",
       "1                     15.894  0.711312   9.145678  8.749684  10.642076   \n",
       "2                     27.401  0.689756  10.123859  9.282525  14.116277   \n",
       "3                     19.320  0.675434   9.721365  9.465269  14.872375   \n",
       "4                     18.154  0.646022  10.229611  9.270378  15.106532   \n",
       "..                       ...       ...        ...       ...        ...   \n",
       "272                   16.023  0.754630   9.543981  8.789539  13.537159   \n",
       "273                   45.113  0.759430  10.249399  8.600942  12.360695   \n",
       "274                   45.419  0.811247  10.261306  8.565688  12.344837   \n",
       "275                   29.382  0.763943  10.336147  8.241281  11.089316   \n",
       "276                   28.300  0.806055  10.729635  8.060450  11.218114   \n",
       "\n",
       "     data_rate  fault_duration  relation          ID  \n",
       "0    32.209893             0.0  0.000000  B0001-12_1  \n",
       "1    37.591142             0.0  0.000000  B0001-12_1  \n",
       "2    24.761631             0.0  0.000000  B0001-12_1  \n",
       "3    42.208165             0.0  0.000000  B0001-12_1  \n",
       "4    40.002877             0.0  0.000000  B0001-12_1  \n",
       "..         ...             ...       ...         ...  \n",
       "272  38.502784             0.0  0.000000  B0001-12_1  \n",
       "273  24.524838             0.0  0.000000  B0001-12_1  \n",
       "274  21.864610             0.0  0.000000  B0001-12_1  \n",
       "275  23.253083             0.0  0.000000  B0001-12_1  \n",
       "276  23.910174            91.0  0.942467  B0001-12_1  \n",
       "\n",
       "[277 rows x 12 columns]"
      ]
     },
     "execution_count": 116,
     "metadata": {},
     "output_type": "execute_result"
    }
   ],
   "source": [
    "df[df.ID=='B0001-12_1']"
   ]
  },
  {
   "cell_type": "code",
   "execution_count": 117,
   "id": "af348cb0",
   "metadata": {},
   "outputs": [
    {
     "data": {
      "text/plain": [
       "7256"
      ]
     },
     "execution_count": 117,
     "metadata": {},
     "output_type": "execute_result"
    }
   ],
   "source": [
    "df[\"ID\"].nunique()"
   ]
  },
  {
   "cell_type": "code",
   "execution_count": 118,
   "id": "07bbc493",
   "metadata": {},
   "outputs": [
    {
     "data": {
      "text/plain": [
       "('2023-02-09 01:00:00', '2023-03-02 00:00:00')"
      ]
     },
     "execution_count": 118,
     "metadata": {},
     "output_type": "execute_result"
    }
   ],
   "source": [
    "df[\"endTime\"].min(),df[\"endTime\"].max()"
   ]
  },
  {
   "cell_type": "code",
   "execution_count": 119,
   "id": "9c34cdc3",
   "metadata": {},
   "outputs": [
    {
     "data": {
      "text/html": [
       "<div>\n",
       "<style scoped>\n",
       "    .dataframe tbody tr th:only-of-type {\n",
       "        vertical-align: middle;\n",
       "    }\n",
       "\n",
       "    .dataframe tbody tr th {\n",
       "        vertical-align: top;\n",
       "    }\n",
       "\n",
       "    .dataframe thead th {\n",
       "        text-align: right;\n",
       "    }\n",
       "</style>\n",
       "<table border=\"1\" class=\"dataframe\">\n",
       "  <thead>\n",
       "    <tr style=\"text-align: right;\">\n",
       "      <th></th>\n",
       "      <th>NE ID</th>\n",
       "      <th>endTime</th>\n",
       "      <th>access_success_rate</th>\n",
       "      <th>resource_utilition_rate</th>\n",
       "      <th>TA</th>\n",
       "      <th>bler</th>\n",
       "      <th>cqi</th>\n",
       "      <th>mcs</th>\n",
       "      <th>data_rate</th>\n",
       "      <th>fault_duration</th>\n",
       "      <th>relation</th>\n",
       "      <th>ID</th>\n",
       "    </tr>\n",
       "  </thead>\n",
       "  <tbody>\n",
       "    <tr>\n",
       "      <th>0</th>\n",
       "      <td>B0017-25</td>\n",
       "      <td>2023-02-20 06:00:00</td>\n",
       "      <td>99.714558</td>\n",
       "      <td>8.678</td>\n",
       "      <td>3.715410</td>\n",
       "      <td>7.653169</td>\n",
       "      <td>5.964988</td>\n",
       "      <td>5.403557</td>\n",
       "      <td>6.815789</td>\n",
       "      <td>0.0</td>\n",
       "      <td>0.000000</td>\n",
       "      <td>B0017-25_24</td>\n",
       "    </tr>\n",
       "    <tr>\n",
       "      <th>1</th>\n",
       "      <td>B0017-25</td>\n",
       "      <td>2023-02-20 07:00:00</td>\n",
       "      <td>99.927484</td>\n",
       "      <td>24.264</td>\n",
       "      <td>3.145402</td>\n",
       "      <td>10.015796</td>\n",
       "      <td>6.141206</td>\n",
       "      <td>6.544645</td>\n",
       "      <td>6.777114</td>\n",
       "      <td>0.0</td>\n",
       "      <td>0.000000</td>\n",
       "      <td>B0017-25_24</td>\n",
       "    </tr>\n",
       "    <tr>\n",
       "      <th>2</th>\n",
       "      <td>B0017-25</td>\n",
       "      <td>2023-02-20 08:00:00</td>\n",
       "      <td>99.357688</td>\n",
       "      <td>84.004</td>\n",
       "      <td>2.923368</td>\n",
       "      <td>14.209819</td>\n",
       "      <td>5.582824</td>\n",
       "      <td>5.667775</td>\n",
       "      <td>1.175289</td>\n",
       "      <td>0.0</td>\n",
       "      <td>0.000000</td>\n",
       "      <td>B0017-25_24</td>\n",
       "    </tr>\n",
       "    <tr>\n",
       "      <th>3</th>\n",
       "      <td>B0017-25</td>\n",
       "      <td>2023-02-20 09:00:00</td>\n",
       "      <td>NaN</td>\n",
       "      <td>NaN</td>\n",
       "      <td>NaN</td>\n",
       "      <td>NaN</td>\n",
       "      <td>NaN</td>\n",
       "      <td>NaN</td>\n",
       "      <td>NaN</td>\n",
       "      <td>301.0</td>\n",
       "      <td>0.654162</td>\n",
       "      <td>B0017-25_24</td>\n",
       "    </tr>\n",
       "  </tbody>\n",
       "</table>\n",
       "</div>"
      ],
      "text/plain": [
       "      NE ID              endTime  access_success_rate  \\\n",
       "0  B0017-25  2023-02-20 06:00:00            99.714558   \n",
       "1  B0017-25  2023-02-20 07:00:00            99.927484   \n",
       "2  B0017-25  2023-02-20 08:00:00            99.357688   \n",
       "3  B0017-25  2023-02-20 09:00:00                  NaN   \n",
       "\n",
       "   resource_utilition_rate        TA       bler       cqi       mcs  \\\n",
       "0                    8.678  3.715410   7.653169  5.964988  5.403557   \n",
       "1                   24.264  3.145402  10.015796  6.141206  6.544645   \n",
       "2                   84.004  2.923368  14.209819  5.582824  5.667775   \n",
       "3                      NaN       NaN        NaN       NaN       NaN   \n",
       "\n",
       "   data_rate  fault_duration  relation           ID  \n",
       "0   6.815789             0.0  0.000000  B0017-25_24  \n",
       "1   6.777114             0.0  0.000000  B0017-25_24  \n",
       "2   1.175289             0.0  0.000000  B0017-25_24  \n",
       "3        NaN           301.0  0.654162  B0017-25_24  "
      ]
     },
     "execution_count": 119,
     "metadata": {},
     "output_type": "execute_result"
    }
   ],
   "source": [
    "tdf[tdf.ID==\"B0017-25_24\"]"
   ]
  },
  {
   "cell_type": "code",
   "execution_count": null,
   "id": "7c98bfc7",
   "metadata": {},
   "outputs": [],
   "source": []
  },
  {
   "cell_type": "code",
   "execution_count": 120,
   "id": "c74a5e09",
   "metadata": {
    "execution": {
     "iopub.execute_input": "2023-08-17T10:18:11.189620Z",
     "iopub.status.busy": "2023-08-17T10:18:11.189198Z",
     "iopub.status.idle": "2023-08-17T10:18:11.194411Z",
     "shell.execute_reply": "2023-08-17T10:18:11.193317Z"
    },
    "papermill": {
     "duration": 0.028452,
     "end_time": "2023-08-17T10:18:11.196691",
     "exception": false,
     "start_time": "2023-08-17T10:18:11.168239",
     "status": "completed"
    },
    "tags": []
   },
   "outputs": [],
   "source": [
    "num_cols=[\"access_success_rate\",\"resource_utilition_rate\",\"TA\",\"bler\",\"cqi\",\"mcs\"]"
   ]
  },
  {
   "cell_type": "code",
   "execution_count": 121,
   "id": "884d9a6f",
   "metadata": {
    "execution": {
     "iopub.execute_input": "2023-08-17T10:18:11.620580Z",
     "iopub.status.busy": "2023-08-17T10:18:11.620155Z",
     "iopub.status.idle": "2023-08-17T10:18:11.879053Z",
     "shell.execute_reply": "2023-08-17T10:18:11.878049Z"
    },
    "papermill": {
     "duration": 0.283343,
     "end_time": "2023-08-17T10:18:11.882320",
     "exception": false,
     "start_time": "2023-08-17T10:18:11.598977",
     "status": "completed"
    },
    "tags": []
   },
   "outputs": [],
   "source": [
    "df[\"NE ID ID COUNT\"] = df.groupby(\"NE ID\")[\"ID\"].transform(\"nunique\")\n",
    "tdf[\"NE ID ID COUNT\"] = tdf.groupby(\"NE ID\")[\"ID\"].transform(\"nunique\")"
   ]
  },
  {
   "cell_type": "code",
   "execution_count": 122,
   "id": "20c134e5",
   "metadata": {
    "execution": {
     "iopub.execute_input": "2023-08-17T10:18:12.072444Z",
     "iopub.status.busy": "2023-08-17T10:18:12.071974Z",
     "iopub.status.idle": "2023-08-17T10:18:12.077633Z",
     "shell.execute_reply": "2023-08-17T10:18:12.076163Z"
    },
    "papermill": {
     "duration": 0.03077,
     "end_time": "2023-08-17T10:18:12.080344",
     "exception": false,
     "start_time": "2023-08-17T10:18:12.049574",
     "status": "completed"
    },
    "tags": []
   },
   "outputs": [],
   "source": [
    "cat_cols=[\"A\",\"B\",\"C\",\"ID\",\"NE ID\"]"
   ]
  },
  {
   "cell_type": "code",
   "execution_count": 123,
   "id": "60e7d1df",
   "metadata": {
    "execution": {
     "iopub.execute_input": "2023-08-17T10:18:12.125432Z",
     "iopub.status.busy": "2023-08-17T10:18:12.124965Z",
     "iopub.status.idle": "2023-08-17T10:18:24.638504Z",
     "shell.execute_reply": "2023-08-17T10:18:24.637464Z"
    },
    "papermill": {
     "duration": 12.539386,
     "end_time": "2023-08-17T10:18:24.641292",
     "exception": false,
     "start_time": "2023-08-17T10:18:12.101906",
     "status": "completed"
    },
    "tags": []
   },
   "outputs": [],
   "source": [
    "# Extract Time Features\n",
    "for x in [df,tdf]:\n",
    "    x[[\"A\",\"C\"]] = x.ID.str.split(\"_\",expand=True)\n",
    "    x[[\"A\",\"B\"]] = x.A.str.split(\"-\",expand=True)\n",
    "    x[\"A\"] = x.A.str.split(\"B\",expand=True)[1]\n",
    "    for col in [\"A\",\"B\",\"C\"]:\n",
    "        x[col] = x[col].astype(\"int\")\n",
    "    x.endTime=pd.to_datetime(x.endTime)\n",
    "    x[\"month\"] = x.endTime.dt.month\n",
    "    x[\"day\"] = x.endTime.dt.day\n",
    "    x[\"dow\"] = x.endTime.dt.day_of_week.astype(\"int\")\n",
    "    x[\"hour\"] = x.endTime.dt.hour\n",
    "    x[\"ts\"] = x.endTime.values.astype(\"int\")\n",
    "    x[\"ts\"] = x.ts/1000000000"
   ]
  },
  {
   "cell_type": "code",
   "execution_count": 124,
   "id": "a9e8272c",
   "metadata": {
    "execution": {
     "iopub.execute_input": "2023-08-17T10:18:24.686807Z",
     "iopub.status.busy": "2023-08-17T10:18:24.686212Z",
     "iopub.status.idle": "2023-08-17T10:18:24.988423Z",
     "shell.execute_reply": "2023-08-17T10:18:24.987285Z"
    },
    "papermill": {
     "duration": 0.327782,
     "end_time": "2023-08-17T10:18:24.991067",
     "exception": false,
     "start_time": "2023-08-17T10:18:24.663285",
     "status": "completed"
    },
    "tags": []
   },
   "outputs": [],
   "source": [
    "df=df.reset_index()"
   ]
  },
  {
   "cell_type": "code",
   "execution_count": 125,
   "id": "8460f6c1",
   "metadata": {
    "execution": {
     "iopub.execute_input": "2023-08-17T10:18:25.034745Z",
     "iopub.status.busy": "2023-08-17T10:18:25.034364Z",
     "iopub.status.idle": "2023-08-17T10:18:25.058465Z",
     "shell.execute_reply": "2023-08-17T10:18:25.057401Z"
    },
    "papermill": {
     "duration": 0.049154,
     "end_time": "2023-08-17T10:18:25.061284",
     "exception": false,
     "start_time": "2023-08-17T10:18:25.012130",
     "status": "completed"
    },
    "tags": []
   },
   "outputs": [],
   "source": [
    "tdf=tdf.reset_index()"
   ]
  },
  {
   "cell_type": "code",
   "execution_count": 126,
   "id": "bac1afb9",
   "metadata": {
    "execution": {
     "iopub.execute_input": "2023-08-17T10:18:26.285930Z",
     "iopub.status.busy": "2023-08-17T10:18:26.285557Z",
     "iopub.status.idle": "2023-08-17T10:18:26.291913Z",
     "shell.execute_reply": "2023-08-17T10:18:26.291051Z"
    },
    "papermill": {
     "duration": 0.031802,
     "end_time": "2023-08-17T10:18:26.294399",
     "exception": false,
     "start_time": "2023-08-17T10:18:26.262597",
     "status": "completed"
    },
    "tags": []
   },
   "outputs": [],
   "source": [
    "df[\"test\"]=0\n",
    "tdf[\"test\"]=1"
   ]
  },
  {
   "cell_type": "code",
   "execution_count": 127,
   "id": "1cec4d5f",
   "metadata": {
    "execution": {
     "iopub.execute_input": "2023-08-17T10:18:26.339603Z",
     "iopub.status.busy": "2023-08-17T10:18:26.339214Z",
     "iopub.status.idle": "2023-08-17T10:18:26.537915Z",
     "shell.execute_reply": "2023-08-17T10:18:26.536745Z"
    },
    "papermill": {
     "duration": 0.224653,
     "end_time": "2023-08-17T10:18:26.540497",
     "exception": false,
     "start_time": "2023-08-17T10:18:26.315844",
     "status": "completed"
    },
    "tags": []
   },
   "outputs": [],
   "source": [
    "df=df.append(tdf[df.columns])"
   ]
  },
  {
   "cell_type": "code",
   "execution_count": 128,
   "id": "8a3438c4",
   "metadata": {
    "execution": {
     "iopub.execute_input": "2023-08-17T10:18:27.019915Z",
     "iopub.status.busy": "2023-08-17T10:18:27.018949Z",
     "iopub.status.idle": "2023-08-17T10:18:27.468886Z",
     "shell.execute_reply": "2023-08-17T10:18:27.467703Z"
    },
    "papermill": {
     "duration": 0.475761,
     "end_time": "2023-08-17T10:18:27.471701",
     "exception": false,
     "start_time": "2023-08-17T10:18:26.995940",
     "status": "completed"
    },
    "tags": []
   },
   "outputs": [],
   "source": [
    "df = df.sort_values([\"ID\",\"endTime\"])"
   ]
  },
  {
   "cell_type": "code",
   "execution_count": 129,
   "id": "cec47330",
   "metadata": {
    "execution": {
     "iopub.execute_input": "2023-08-17T10:18:27.518039Z",
     "iopub.status.busy": "2023-08-17T10:18:27.517585Z",
     "iopub.status.idle": "2023-08-17T10:18:28.089063Z",
     "shell.execute_reply": "2023-08-17T10:18:28.087889Z"
    },
    "papermill": {
     "duration": 0.598242,
     "end_time": "2023-08-17T10:18:28.092255",
     "exception": false,
     "start_time": "2023-08-17T10:18:27.494013",
     "status": "completed"
    },
    "tags": []
   },
   "outputs": [],
   "source": [
    "df[\"Count_feature_1\"] = df.groupby([\"ID\"])[\"ID\"].transform(\"count\")\n",
    "df[\"Count_feature_2\"] = df.groupby([\"NE ID\"])[\"NE ID\"].transform(\"count\")\n",
    "df[\"Count_feature_3\"] = df.groupby([\"A\"])[\"A\"].transform(\"count\")\n",
    "df[\"Count_feature_4\"] = df.groupby([\"B\"])[\"B\"].transform(\"count\")\n",
    "df[\"NE suffix count encoded\"] = df.groupby([\"C\"])[\"C\"].transform(\"count\")"
   ]
  },
  {
   "cell_type": "code",
   "execution_count": 130,
   "id": "ba27cd24",
   "metadata": {
    "execution": {
     "iopub.execute_input": "2023-08-17T10:18:28.545522Z",
     "iopub.status.busy": "2023-08-17T10:18:28.545098Z",
     "iopub.status.idle": "2023-08-17T10:18:28.717243Z",
     "shell.execute_reply": "2023-08-17T10:18:28.716046Z"
    },
    "papermill": {
     "duration": 0.199403,
     "end_time": "2023-08-17T10:18:28.720037",
     "exception": false,
     "start_time": "2023-08-17T10:18:28.520634",
     "status": "completed"
    },
    "tags": []
   },
   "outputs": [],
   "source": [
    "df[\"NE_Index\"] = df.groupby([\"ID\"])[\"index\"].transform(\"min\")\n",
    "df[\"NE_Index\"] = df[\"index\"]-df[\"NE_Index\"]  "
   ]
  },
  {
   "cell_type": "code",
   "execution_count": 131,
   "id": "56841c02",
   "metadata": {
    "execution": {
     "iopub.execute_input": "2023-08-17T10:18:28.863526Z",
     "iopub.status.busy": "2023-08-17T10:18:28.863106Z",
     "iopub.status.idle": "2023-08-17T10:18:29.051001Z",
     "shell.execute_reply": "2023-08-17T10:18:29.049705Z"
    },
    "papermill": {
     "duration": 0.213917,
     "end_time": "2023-08-17T10:18:29.053849",
     "exception": false,
     "start_time": "2023-08-17T10:18:28.839932",
     "status": "completed"
    },
    "tags": []
   },
   "outputs": [],
   "source": [
    "df[\"fault_duration X relation\"]=df.fault_duration*df.relation\n",
    "df[\"fault_duration X relation present hour\"]=df.groupby([\"ID\"])[\"fault_duration X relation\"].shift(-1)"
   ]
  },
  {
   "cell_type": "code",
   "execution_count": 132,
   "id": "00e2590f",
   "metadata": {
    "execution": {
     "iopub.execute_input": "2023-08-17T10:18:29.515142Z",
     "iopub.status.busy": "2023-08-17T10:18:29.514349Z",
     "iopub.status.idle": "2023-08-17T10:18:30.385494Z",
     "shell.execute_reply": "2023-08-17T10:18:30.384293Z"
    },
    "papermill": {
     "duration": 0.899542,
     "end_time": "2023-08-17T10:18:30.389301",
     "exception": false,
     "start_time": "2023-08-17T10:18:29.489759",
     "status": "completed"
    },
    "tags": []
   },
   "outputs": [],
   "source": [
    "df[\"next_data_rate\"] = df.groupby([\"ID\"])[\"data_rate\"].shift(-1)\n",
    "df[\"fault_duration present hour\"] = df.groupby([\"ID\"])[\"fault_duration\"].shift(-1)\n",
    "df[\"relation present hour\"] = df.groupby([\"ID\"])[\"relation\"].shift(-1)"
   ]
  },
  {
   "cell_type": "code",
   "execution_count": 133,
   "id": "1935d212",
   "metadata": {
    "execution": {
     "iopub.execute_input": "2023-08-17T10:18:30.875273Z",
     "iopub.status.busy": "2023-08-17T10:18:30.874510Z",
     "iopub.status.idle": "2023-08-17T10:18:39.936465Z",
     "shell.execute_reply": "2023-08-17T10:18:39.935373Z"
    },
    "papermill": {
     "duration": 9.099646,
     "end_time": "2023-08-17T10:18:39.939228",
     "exception": false,
     "start_time": "2023-08-17T10:18:30.839582",
     "status": "completed"
    },
    "tags": []
   },
   "outputs": [
    {
     "name": "stderr",
     "output_type": "stream",
     "text": [
      "<ipython-input-133-68d9d00731d2>:4: PerformanceWarning: DataFrame is highly fragmented.  This is usually the result of calling `frame.insert` many times, which has poor performance.  Consider joining all columns at once using pd.concat(axis=1) instead. To get a de-fragmented frame, use `newframe = frame.copy()`\n",
      "  df[f\"last_{col}_{i}\"] = df.groupby([\"ID\"])[col].shift(i)\n",
      "<ipython-input-133-68d9d00731d2>:5: PerformanceWarning: DataFrame is highly fragmented.  This is usually the result of calling `frame.insert` many times, which has poor performance.  Consider joining all columns at once using pd.concat(axis=1) instead. To get a de-fragmented frame, use `newframe = frame.copy()`\n",
      "  df[f\"last_{col}_vs_{i}\"] = (df[col]+0.1)/(df[f\"last_{col}_{i}\"]+0.1)\n",
      "<ipython-input-133-68d9d00731d2>:7: PerformanceWarning: DataFrame is highly fragmented.  This is usually the result of calling `frame.insert` many times, which has poor performance.  Consider joining all columns at once using pd.concat(axis=1) instead. To get a de-fragmented frame, use `newframe = frame.copy()`\n",
      "  df[f\"last_{col}_{i}_vs_{i-1}\"] = (df[f\"last_{col}_{i}\"]+0.1)/(df[f\"last_{col}_{i-1}\"]+0.1)\n",
      "<ipython-input-133-68d9d00731d2>:4: PerformanceWarning: DataFrame is highly fragmented.  This is usually the result of calling `frame.insert` many times, which has poor performance.  Consider joining all columns at once using pd.concat(axis=1) instead. To get a de-fragmented frame, use `newframe = frame.copy()`\n",
      "  df[f\"last_{col}_{i}\"] = df.groupby([\"ID\"])[col].shift(i)\n",
      "<ipython-input-133-68d9d00731d2>:5: PerformanceWarning: DataFrame is highly fragmented.  This is usually the result of calling `frame.insert` many times, which has poor performance.  Consider joining all columns at once using pd.concat(axis=1) instead. To get a de-fragmented frame, use `newframe = frame.copy()`\n",
      "  df[f\"last_{col}_vs_{i}\"] = (df[col]+0.1)/(df[f\"last_{col}_{i}\"]+0.1)\n",
      "<ipython-input-133-68d9d00731d2>:7: PerformanceWarning: DataFrame is highly fragmented.  This is usually the result of calling `frame.insert` many times, which has poor performance.  Consider joining all columns at once using pd.concat(axis=1) instead. To get a de-fragmented frame, use `newframe = frame.copy()`\n",
      "  df[f\"last_{col}_{i}_vs_{i-1}\"] = (df[f\"last_{col}_{i}\"]+0.1)/(df[f\"last_{col}_{i-1}\"]+0.1)\n",
      "<ipython-input-133-68d9d00731d2>:4: PerformanceWarning: DataFrame is highly fragmented.  This is usually the result of calling `frame.insert` many times, which has poor performance.  Consider joining all columns at once using pd.concat(axis=1) instead. To get a de-fragmented frame, use `newframe = frame.copy()`\n",
      "  df[f\"last_{col}_{i}\"] = df.groupby([\"ID\"])[col].shift(i)\n",
      "<ipython-input-133-68d9d00731d2>:5: PerformanceWarning: DataFrame is highly fragmented.  This is usually the result of calling `frame.insert` many times, which has poor performance.  Consider joining all columns at once using pd.concat(axis=1) instead. To get a de-fragmented frame, use `newframe = frame.copy()`\n",
      "  df[f\"last_{col}_vs_{i}\"] = (df[col]+0.1)/(df[f\"last_{col}_{i}\"]+0.1)\n",
      "<ipython-input-133-68d9d00731d2>:7: PerformanceWarning: DataFrame is highly fragmented.  This is usually the result of calling `frame.insert` many times, which has poor performance.  Consider joining all columns at once using pd.concat(axis=1) instead. To get a de-fragmented frame, use `newframe = frame.copy()`\n",
      "  df[f\"last_{col}_{i}_vs_{i-1}\"] = (df[f\"last_{col}_{i}\"]+0.1)/(df[f\"last_{col}_{i-1}\"]+0.1)\n",
      "<ipython-input-133-68d9d00731d2>:4: PerformanceWarning: DataFrame is highly fragmented.  This is usually the result of calling `frame.insert` many times, which has poor performance.  Consider joining all columns at once using pd.concat(axis=1) instead. To get a de-fragmented frame, use `newframe = frame.copy()`\n",
      "  df[f\"last_{col}_{i}\"] = df.groupby([\"ID\"])[col].shift(i)\n",
      "<ipython-input-133-68d9d00731d2>:5: PerformanceWarning: DataFrame is highly fragmented.  This is usually the result of calling `frame.insert` many times, which has poor performance.  Consider joining all columns at once using pd.concat(axis=1) instead. To get a de-fragmented frame, use `newframe = frame.copy()`\n",
      "  df[f\"last_{col}_vs_{i}\"] = (df[col]+0.1)/(df[f\"last_{col}_{i}\"]+0.1)\n",
      "<ipython-input-133-68d9d00731d2>:7: PerformanceWarning: DataFrame is highly fragmented.  This is usually the result of calling `frame.insert` many times, which has poor performance.  Consider joining all columns at once using pd.concat(axis=1) instead. To get a de-fragmented frame, use `newframe = frame.copy()`\n",
      "  df[f\"last_{col}_{i}_vs_{i-1}\"] = (df[f\"last_{col}_{i}\"]+0.1)/(df[f\"last_{col}_{i-1}\"]+0.1)\n",
      "<ipython-input-133-68d9d00731d2>:4: PerformanceWarning: DataFrame is highly fragmented.  This is usually the result of calling `frame.insert` many times, which has poor performance.  Consider joining all columns at once using pd.concat(axis=1) instead. To get a de-fragmented frame, use `newframe = frame.copy()`\n",
      "  df[f\"last_{col}_{i}\"] = df.groupby([\"ID\"])[col].shift(i)\n",
      "<ipython-input-133-68d9d00731d2>:5: PerformanceWarning: DataFrame is highly fragmented.  This is usually the result of calling `frame.insert` many times, which has poor performance.  Consider joining all columns at once using pd.concat(axis=1) instead. To get a de-fragmented frame, use `newframe = frame.copy()`\n",
      "  df[f\"last_{col}_vs_{i}\"] = (df[col]+0.1)/(df[f\"last_{col}_{i}\"]+0.1)\n",
      "<ipython-input-133-68d9d00731d2>:7: PerformanceWarning: DataFrame is highly fragmented.  This is usually the result of calling `frame.insert` many times, which has poor performance.  Consider joining all columns at once using pd.concat(axis=1) instead. To get a de-fragmented frame, use `newframe = frame.copy()`\n",
      "  df[f\"last_{col}_{i}_vs_{i-1}\"] = (df[f\"last_{col}_{i}\"]+0.1)/(df[f\"last_{col}_{i-1}\"]+0.1)\n",
      "<ipython-input-133-68d9d00731d2>:4: PerformanceWarning: DataFrame is highly fragmented.  This is usually the result of calling `frame.insert` many times, which has poor performance.  Consider joining all columns at once using pd.concat(axis=1) instead. To get a de-fragmented frame, use `newframe = frame.copy()`\n",
      "  df[f\"last_{col}_{i}\"] = df.groupby([\"ID\"])[col].shift(i)\n",
      "<ipython-input-133-68d9d00731d2>:5: PerformanceWarning: DataFrame is highly fragmented.  This is usually the result of calling `frame.insert` many times, which has poor performance.  Consider joining all columns at once using pd.concat(axis=1) instead. To get a de-fragmented frame, use `newframe = frame.copy()`\n",
      "  df[f\"last_{col}_vs_{i}\"] = (df[col]+0.1)/(df[f\"last_{col}_{i}\"]+0.1)\n",
      "<ipython-input-133-68d9d00731d2>:7: PerformanceWarning: DataFrame is highly fragmented.  This is usually the result of calling `frame.insert` many times, which has poor performance.  Consider joining all columns at once using pd.concat(axis=1) instead. To get a de-fragmented frame, use `newframe = frame.copy()`\n",
      "  df[f\"last_{col}_{i}_vs_{i-1}\"] = (df[f\"last_{col}_{i}\"]+0.1)/(df[f\"last_{col}_{i-1}\"]+0.1)\n",
      "<ipython-input-133-68d9d00731d2>:4: PerformanceWarning: DataFrame is highly fragmented.  This is usually the result of calling `frame.insert` many times, which has poor performance.  Consider joining all columns at once using pd.concat(axis=1) instead. To get a de-fragmented frame, use `newframe = frame.copy()`\n",
      "  df[f\"last_{col}_{i}\"] = df.groupby([\"ID\"])[col].shift(i)\n",
      "<ipython-input-133-68d9d00731d2>:5: PerformanceWarning: DataFrame is highly fragmented.  This is usually the result of calling `frame.insert` many times, which has poor performance.  Consider joining all columns at once using pd.concat(axis=1) instead. To get a de-fragmented frame, use `newframe = frame.copy()`\n",
      "  df[f\"last_{col}_vs_{i}\"] = (df[col]+0.1)/(df[f\"last_{col}_{i}\"]+0.1)\n",
      "<ipython-input-133-68d9d00731d2>:7: PerformanceWarning: DataFrame is highly fragmented.  This is usually the result of calling `frame.insert` many times, which has poor performance.  Consider joining all columns at once using pd.concat(axis=1) instead. To get a de-fragmented frame, use `newframe = frame.copy()`\n",
      "  df[f\"last_{col}_{i}_vs_{i-1}\"] = (df[f\"last_{col}_{i}\"]+0.1)/(df[f\"last_{col}_{i-1}\"]+0.1)\n",
      "<ipython-input-133-68d9d00731d2>:4: PerformanceWarning: DataFrame is highly fragmented.  This is usually the result of calling `frame.insert` many times, which has poor performance.  Consider joining all columns at once using pd.concat(axis=1) instead. To get a de-fragmented frame, use `newframe = frame.copy()`\n",
      "  df[f\"last_{col}_{i}\"] = df.groupby([\"ID\"])[col].shift(i)\n",
      "<ipython-input-133-68d9d00731d2>:5: PerformanceWarning: DataFrame is highly fragmented.  This is usually the result of calling `frame.insert` many times, which has poor performance.  Consider joining all columns at once using pd.concat(axis=1) instead. To get a de-fragmented frame, use `newframe = frame.copy()`\n",
      "  df[f\"last_{col}_vs_{i}\"] = (df[col]+0.1)/(df[f\"last_{col}_{i}\"]+0.1)\n",
      "<ipython-input-133-68d9d00731d2>:7: PerformanceWarning: DataFrame is highly fragmented.  This is usually the result of calling `frame.insert` many times, which has poor performance.  Consider joining all columns at once using pd.concat(axis=1) instead. To get a de-fragmented frame, use `newframe = frame.copy()`\n",
      "  df[f\"last_{col}_{i}_vs_{i-1}\"] = (df[f\"last_{col}_{i}\"]+0.1)/(df[f\"last_{col}_{i-1}\"]+0.1)\n"
     ]
    },
    {
     "name": "stderr",
     "output_type": "stream",
     "text": [
      "<ipython-input-133-68d9d00731d2>:4: PerformanceWarning: DataFrame is highly fragmented.  This is usually the result of calling `frame.insert` many times, which has poor performance.  Consider joining all columns at once using pd.concat(axis=1) instead. To get a de-fragmented frame, use `newframe = frame.copy()`\n",
      "  df[f\"last_{col}_{i}\"] = df.groupby([\"ID\"])[col].shift(i)\n",
      "<ipython-input-133-68d9d00731d2>:5: PerformanceWarning: DataFrame is highly fragmented.  This is usually the result of calling `frame.insert` many times, which has poor performance.  Consider joining all columns at once using pd.concat(axis=1) instead. To get a de-fragmented frame, use `newframe = frame.copy()`\n",
      "  df[f\"last_{col}_vs_{i}\"] = (df[col]+0.1)/(df[f\"last_{col}_{i}\"]+0.1)\n",
      "<ipython-input-133-68d9d00731d2>:7: PerformanceWarning: DataFrame is highly fragmented.  This is usually the result of calling `frame.insert` many times, which has poor performance.  Consider joining all columns at once using pd.concat(axis=1) instead. To get a de-fragmented frame, use `newframe = frame.copy()`\n",
      "  df[f\"last_{col}_{i}_vs_{i-1}\"] = (df[f\"last_{col}_{i}\"]+0.1)/(df[f\"last_{col}_{i-1}\"]+0.1)\n",
      "<ipython-input-133-68d9d00731d2>:4: PerformanceWarning: DataFrame is highly fragmented.  This is usually the result of calling `frame.insert` many times, which has poor performance.  Consider joining all columns at once using pd.concat(axis=1) instead. To get a de-fragmented frame, use `newframe = frame.copy()`\n",
      "  df[f\"last_{col}_{i}\"] = df.groupby([\"ID\"])[col].shift(i)\n",
      "<ipython-input-133-68d9d00731d2>:5: PerformanceWarning: DataFrame is highly fragmented.  This is usually the result of calling `frame.insert` many times, which has poor performance.  Consider joining all columns at once using pd.concat(axis=1) instead. To get a de-fragmented frame, use `newframe = frame.copy()`\n",
      "  df[f\"last_{col}_vs_{i}\"] = (df[col]+0.1)/(df[f\"last_{col}_{i}\"]+0.1)\n",
      "<ipython-input-133-68d9d00731d2>:7: PerformanceWarning: DataFrame is highly fragmented.  This is usually the result of calling `frame.insert` many times, which has poor performance.  Consider joining all columns at once using pd.concat(axis=1) instead. To get a de-fragmented frame, use `newframe = frame.copy()`\n",
      "  df[f\"last_{col}_{i}_vs_{i-1}\"] = (df[f\"last_{col}_{i}\"]+0.1)/(df[f\"last_{col}_{i-1}\"]+0.1)\n",
      "<ipython-input-133-68d9d00731d2>:4: PerformanceWarning: DataFrame is highly fragmented.  This is usually the result of calling `frame.insert` many times, which has poor performance.  Consider joining all columns at once using pd.concat(axis=1) instead. To get a de-fragmented frame, use `newframe = frame.copy()`\n",
      "  df[f\"last_{col}_{i}\"] = df.groupby([\"ID\"])[col].shift(i)\n",
      "<ipython-input-133-68d9d00731d2>:5: PerformanceWarning: DataFrame is highly fragmented.  This is usually the result of calling `frame.insert` many times, which has poor performance.  Consider joining all columns at once using pd.concat(axis=1) instead. To get a de-fragmented frame, use `newframe = frame.copy()`\n",
      "  df[f\"last_{col}_vs_{i}\"] = (df[col]+0.1)/(df[f\"last_{col}_{i}\"]+0.1)\n",
      "<ipython-input-133-68d9d00731d2>:7: PerformanceWarning: DataFrame is highly fragmented.  This is usually the result of calling `frame.insert` many times, which has poor performance.  Consider joining all columns at once using pd.concat(axis=1) instead. To get a de-fragmented frame, use `newframe = frame.copy()`\n",
      "  df[f\"last_{col}_{i}_vs_{i-1}\"] = (df[f\"last_{col}_{i}\"]+0.1)/(df[f\"last_{col}_{i-1}\"]+0.1)\n",
      "<ipython-input-133-68d9d00731d2>:4: PerformanceWarning: DataFrame is highly fragmented.  This is usually the result of calling `frame.insert` many times, which has poor performance.  Consider joining all columns at once using pd.concat(axis=1) instead. To get a de-fragmented frame, use `newframe = frame.copy()`\n",
      "  df[f\"last_{col}_{i}\"] = df.groupby([\"ID\"])[col].shift(i)\n",
      "<ipython-input-133-68d9d00731d2>:5: PerformanceWarning: DataFrame is highly fragmented.  This is usually the result of calling `frame.insert` many times, which has poor performance.  Consider joining all columns at once using pd.concat(axis=1) instead. To get a de-fragmented frame, use `newframe = frame.copy()`\n",
      "  df[f\"last_{col}_vs_{i}\"] = (df[col]+0.1)/(df[f\"last_{col}_{i}\"]+0.1)\n",
      "<ipython-input-133-68d9d00731d2>:7: PerformanceWarning: DataFrame is highly fragmented.  This is usually the result of calling `frame.insert` many times, which has poor performance.  Consider joining all columns at once using pd.concat(axis=1) instead. To get a de-fragmented frame, use `newframe = frame.copy()`\n",
      "  df[f\"last_{col}_{i}_vs_{i-1}\"] = (df[f\"last_{col}_{i}\"]+0.1)/(df[f\"last_{col}_{i-1}\"]+0.1)\n",
      "<ipython-input-133-68d9d00731d2>:4: PerformanceWarning: DataFrame is highly fragmented.  This is usually the result of calling `frame.insert` many times, which has poor performance.  Consider joining all columns at once using pd.concat(axis=1) instead. To get a de-fragmented frame, use `newframe = frame.copy()`\n",
      "  df[f\"last_{col}_{i}\"] = df.groupby([\"ID\"])[col].shift(i)\n",
      "<ipython-input-133-68d9d00731d2>:5: PerformanceWarning: DataFrame is highly fragmented.  This is usually the result of calling `frame.insert` many times, which has poor performance.  Consider joining all columns at once using pd.concat(axis=1) instead. To get a de-fragmented frame, use `newframe = frame.copy()`\n",
      "  df[f\"last_{col}_vs_{i}\"] = (df[col]+0.1)/(df[f\"last_{col}_{i}\"]+0.1)\n",
      "<ipython-input-133-68d9d00731d2>:7: PerformanceWarning: DataFrame is highly fragmented.  This is usually the result of calling `frame.insert` many times, which has poor performance.  Consider joining all columns at once using pd.concat(axis=1) instead. To get a de-fragmented frame, use `newframe = frame.copy()`\n",
      "  df[f\"last_{col}_{i}_vs_{i-1}\"] = (df[f\"last_{col}_{i}\"]+0.1)/(df[f\"last_{col}_{i-1}\"]+0.1)\n",
      "<ipython-input-133-68d9d00731d2>:4: PerformanceWarning: DataFrame is highly fragmented.  This is usually the result of calling `frame.insert` many times, which has poor performance.  Consider joining all columns at once using pd.concat(axis=1) instead. To get a de-fragmented frame, use `newframe = frame.copy()`\n",
      "  df[f\"last_{col}_{i}\"] = df.groupby([\"ID\"])[col].shift(i)\n",
      "<ipython-input-133-68d9d00731d2>:5: PerformanceWarning: DataFrame is highly fragmented.  This is usually the result of calling `frame.insert` many times, which has poor performance.  Consider joining all columns at once using pd.concat(axis=1) instead. To get a de-fragmented frame, use `newframe = frame.copy()`\n",
      "  df[f\"last_{col}_vs_{i}\"] = (df[col]+0.1)/(df[f\"last_{col}_{i}\"]+0.1)\n",
      "<ipython-input-133-68d9d00731d2>:7: PerformanceWarning: DataFrame is highly fragmented.  This is usually the result of calling `frame.insert` many times, which has poor performance.  Consider joining all columns at once using pd.concat(axis=1) instead. To get a de-fragmented frame, use `newframe = frame.copy()`\n",
      "  df[f\"last_{col}_{i}_vs_{i-1}\"] = (df[f\"last_{col}_{i}\"]+0.1)/(df[f\"last_{col}_{i-1}\"]+0.1)\n",
      "<ipython-input-133-68d9d00731d2>:4: PerformanceWarning: DataFrame is highly fragmented.  This is usually the result of calling `frame.insert` many times, which has poor performance.  Consider joining all columns at once using pd.concat(axis=1) instead. To get a de-fragmented frame, use `newframe = frame.copy()`\n",
      "  df[f\"last_{col}_{i}\"] = df.groupby([\"ID\"])[col].shift(i)\n",
      "<ipython-input-133-68d9d00731d2>:5: PerformanceWarning: DataFrame is highly fragmented.  This is usually the result of calling `frame.insert` many times, which has poor performance.  Consider joining all columns at once using pd.concat(axis=1) instead. To get a de-fragmented frame, use `newframe = frame.copy()`\n",
      "  df[f\"last_{col}_vs_{i}\"] = (df[col]+0.1)/(df[f\"last_{col}_{i}\"]+0.1)\n",
      "<ipython-input-133-68d9d00731d2>:7: PerformanceWarning: DataFrame is highly fragmented.  This is usually the result of calling `frame.insert` many times, which has poor performance.  Consider joining all columns at once using pd.concat(axis=1) instead. To get a de-fragmented frame, use `newframe = frame.copy()`\n",
      "  df[f\"last_{col}_{i}_vs_{i-1}\"] = (df[f\"last_{col}_{i}\"]+0.1)/(df[f\"last_{col}_{i-1}\"]+0.1)\n",
      "<ipython-input-133-68d9d00731d2>:4: PerformanceWarning: DataFrame is highly fragmented.  This is usually the result of calling `frame.insert` many times, which has poor performance.  Consider joining all columns at once using pd.concat(axis=1) instead. To get a de-fragmented frame, use `newframe = frame.copy()`\n",
      "  df[f\"last_{col}_{i}\"] = df.groupby([\"ID\"])[col].shift(i)\n",
      "<ipython-input-133-68d9d00731d2>:5: PerformanceWarning: DataFrame is highly fragmented.  This is usually the result of calling `frame.insert` many times, which has poor performance.  Consider joining all columns at once using pd.concat(axis=1) instead. To get a de-fragmented frame, use `newframe = frame.copy()`\n",
      "  df[f\"last_{col}_vs_{i}\"] = (df[col]+0.1)/(df[f\"last_{col}_{i}\"]+0.1)\n",
      "<ipython-input-133-68d9d00731d2>:7: PerformanceWarning: DataFrame is highly fragmented.  This is usually the result of calling `frame.insert` many times, which has poor performance.  Consider joining all columns at once using pd.concat(axis=1) instead. To get a de-fragmented frame, use `newframe = frame.copy()`\n",
      "  df[f\"last_{col}_{i}_vs_{i-1}\"] = (df[f\"last_{col}_{i}\"]+0.1)/(df[f\"last_{col}_{i-1}\"]+0.1)\n"
     ]
    }
   ],
   "source": [
    "# Extract Lag Features\n",
    "for i in range(1,43,1):\n",
    "    for col in [\"data_rate\"]:\n",
    "        df[f\"last_{col}_{i}\"] = df.groupby([\"ID\"])[col].shift(i)\n",
    "        df[f\"last_{col}_vs_{i}\"] = (df[col]+0.1)/(df[f\"last_{col}_{i}\"]+0.1)\n",
    "        if i > 1:\n",
    "            df[f\"last_{col}_{i}_vs_{i-1}\"] = (df[f\"last_{col}_{i}\"]+0.1)/(df[f\"last_{col}_{i-1}\"]+0.1)"
   ]
  },
  {
   "cell_type": "code",
   "execution_count": 134,
   "id": "98657bb4",
   "metadata": {
    "execution": {
     "iopub.execute_input": "2023-08-17T10:18:41.844964Z",
     "iopub.status.busy": "2023-08-17T10:18:41.844578Z",
     "iopub.status.idle": "2023-08-17T10:18:43.453430Z",
     "shell.execute_reply": "2023-08-17T10:18:43.452259Z"
    },
    "papermill": {
     "duration": 1.638369,
     "end_time": "2023-08-17T10:18:43.456254",
     "exception": false,
     "start_time": "2023-08-17T10:18:41.817885",
     "status": "completed"
    },
    "tags": []
   },
   "outputs": [],
   "source": [
    "df = df.rename({\n",
    "    \"A\":\"NE_PREFIX\",\"C\":\"NE_SUFFIX\",\"fault_duration\":\"fault_duration past hour\",\"relation\":\"relation past hour\"\n",
    "    ,\"access_success_rate\":\"access_success_rate past hour\",\"resource_utilition_rate\":\"resource_utilition_rate past hour\"\n",
    "},axis=1)\n",
    "tdf = df[df[\"test\"]==1]\n",
    "tdf = tdf[tdf[\"fault_duration present hour\"]>0]\n",
    "df = df[df[\"test\"]==0]\n"
   ]
  },
  {
   "cell_type": "code",
   "execution_count": 135,
   "id": "f5da39eb",
   "metadata": {
    "execution": {
     "iopub.execute_input": "2023-08-17T10:18:51.702650Z",
     "iopub.status.busy": "2023-08-17T10:18:51.701651Z",
     "iopub.status.idle": "2023-08-17T10:18:51.740126Z",
     "shell.execute_reply": "2023-08-17T10:18:51.738921Z"
    },
    "papermill": {
     "duration": 0.069765,
     "end_time": "2023-08-17T10:18:51.742541",
     "exception": false,
     "start_time": "2023-08-17T10:18:51.672776",
     "status": "completed"
    },
    "tags": []
   },
   "outputs": [
    {
     "data": {
      "text/plain": [
       "count    908922.000000\n",
       "mean          0.483683\n",
       "std           0.499734\n",
       "min           0.000000\n",
       "25%           0.000000\n",
       "50%           0.000000\n",
       "75%           1.000000\n",
       "max           1.000000\n",
       "Name: class, dtype: float64"
      ]
     },
     "execution_count": 135,
     "metadata": {},
     "output_type": "execute_result"
    }
   ],
   "source": [
    "df[\"class\"] = (df[\"data_rate\"]>df[\"next_data_rate\"]).astype(\"int\")\n",
    "df[\"class\"].describe()"
   ]
  },
  {
   "cell_type": "code",
   "execution_count": 136,
   "id": "c5dd9b63",
   "metadata": {
    "execution": {
     "iopub.execute_input": "2023-08-17T10:18:51.802508Z",
     "iopub.status.busy": "2023-08-17T10:18:51.802090Z",
     "iopub.status.idle": "2023-08-17T10:18:51.807216Z",
     "shell.execute_reply": "2023-08-17T10:18:51.806160Z"
    },
    "papermill": {
     "duration": 0.037542,
     "end_time": "2023-08-17T10:18:51.809765",
     "exception": false,
     "start_time": "2023-08-17T10:18:51.772223",
     "status": "completed"
    },
    "tags": []
   },
   "outputs": [],
   "source": [
    "target = \"next_data_rate\""
   ]
  },
  {
   "cell_type": "code",
   "execution_count": 137,
   "id": "99ee6b52",
   "metadata": {
    "execution": {
     "iopub.execute_input": "2023-08-17T10:18:51.868889Z",
     "iopub.status.busy": "2023-08-17T10:18:51.868490Z",
     "iopub.status.idle": "2023-08-17T10:18:51.873391Z",
     "shell.execute_reply": "2023-08-17T10:18:51.872309Z"
    },
    "papermill": {
     "duration": 0.037232,
     "end_time": "2023-08-17T10:18:51.875734",
     "exception": false,
     "start_time": "2023-08-17T10:18:51.838502",
     "status": "completed"
    },
    "tags": []
   },
   "outputs": [],
   "source": [
    "drop_cols = [\n",
    "    \"NE ID\",\"endTime\",\"ID\",target, \"class\",\"test\"\n",
    "]\n",
    "cols = df.drop(drop_cols,axis=1).columns\n"
   ]
  },
  {
   "cell_type": "code",
   "execution_count": 138,
   "id": "214ba757",
   "metadata": {},
   "outputs": [],
   "source": [
    "df[\"count_available_features\"] = df[cols].count(axis=1)\n",
    "tdf[\"count_available_features\"] = tdf[cols].count(axis=1)"
   ]
  },
  {
   "cell_type": "code",
   "execution_count": 139,
   "id": "295c07bb",
   "metadata": {},
   "outputs": [
    {
     "data": {
      "text/plain": [
       "31"
      ]
     },
     "execution_count": 139,
     "metadata": {},
     "output_type": "execute_result"
    }
   ],
   "source": [
    "select_cols = tdf[tdf.count_available_features==31]\n",
    "select_cols = list(select_cols[cols].dropna(axis=1).columns)\n",
    "len(select_cols)"
   ]
  },
  {
   "cell_type": "markdown",
   "id": "6df6028e",
   "metadata": {},
   "source": [
    "- # Model 1 - Train With All Features"
   ]
  },
  {
   "cell_type": "code",
   "execution_count": 140,
   "id": "d5e3f66c",
   "metadata": {
    "execution": {
     "iopub.execute_input": "2023-08-17T10:18:51.935508Z",
     "iopub.status.busy": "2023-08-17T10:18:51.935071Z",
     "iopub.status.idle": "2023-08-17T10:18:52.278516Z",
     "shell.execute_reply": "2023-08-17T10:18:52.277328Z"
    },
    "papermill": {
     "duration": 0.375854,
     "end_time": "2023-08-17T10:18:52.280894",
     "exception": false,
     "start_time": "2023-08-17T10:18:51.905040",
     "status": "completed"
    },
    "tags": []
   },
   "outputs": [
    {
     "name": "stderr",
     "output_type": "stream",
     "text": [
      "<ipython-input-140-0ae77f146df6>:8: SettingWithCopyWarning: \n",
      "A value is trying to be set on a copy of a slice from a DataFrame.\n",
      "Try using .loc[row_indexer,col_indexer] = value instead\n",
      "\n",
      "See the caveats in the documentation: https://pandas.pydata.org/pandas-docs/stable/user_guide/indexing.html#returning-a-view-versus-a-copy\n",
      "  pred1[label]=pred1[label].astype(\"int\")\n"
     ]
    },
    {
     "data": {
      "text/html": [
       "<div>\n",
       "<style scoped>\n",
       "    .dataframe tbody tr th:only-of-type {\n",
       "        vertical-align: middle;\n",
       "    }\n",
       "\n",
       "    .dataframe tbody tr th {\n",
       "        vertical-align: top;\n",
       "    }\n",
       "\n",
       "    .dataframe thead th {\n",
       "        text-align: right;\n",
       "    }\n",
       "</style>\n",
       "<table border=\"1\" class=\"dataframe\">\n",
       "  <thead>\n",
       "    <tr style=\"text-align: right;\">\n",
       "      <th></th>\n",
       "      <th>ID</th>\n",
       "      <th>data_rate_t+1_trend</th>\n",
       "    </tr>\n",
       "  </thead>\n",
       "  <tbody>\n",
       "    <tr>\n",
       "      <th>2</th>\n",
       "      <td>B0017-25_24</td>\n",
       "      <td>1</td>\n",
       "    </tr>\n",
       "    <tr>\n",
       "      <th>5</th>\n",
       "      <td>B0017-25_25</td>\n",
       "      <td>0</td>\n",
       "    </tr>\n",
       "    <tr>\n",
       "      <th>7</th>\n",
       "      <td>B0017-25_26</td>\n",
       "      <td>0</td>\n",
       "    </tr>\n",
       "    <tr>\n",
       "      <th>11</th>\n",
       "      <td>B0017-25_27</td>\n",
       "      <td>1</td>\n",
       "    </tr>\n",
       "    <tr>\n",
       "      <th>144</th>\n",
       "      <td>B0017-32_1</td>\n",
       "      <td>1</td>\n",
       "    </tr>\n",
       "    <tr>\n",
       "      <th>...</th>\n",
       "      <td>...</td>\n",
       "      <td>...</td>\n",
       "    </tr>\n",
       "    <tr>\n",
       "      <th>174665</th>\n",
       "      <td>B0122-43_1</td>\n",
       "      <td>1</td>\n",
       "    </tr>\n",
       "    <tr>\n",
       "      <th>174713</th>\n",
       "      <td>B0122-43_2</td>\n",
       "      <td>0</td>\n",
       "    </tr>\n",
       "    <tr>\n",
       "      <th>174776</th>\n",
       "      <td>B0122-45_1</td>\n",
       "      <td>1</td>\n",
       "    </tr>\n",
       "    <tr>\n",
       "      <th>174824</th>\n",
       "      <td>B0122-45_2</td>\n",
       "      <td>1</td>\n",
       "    </tr>\n",
       "    <tr>\n",
       "      <th>175148</th>\n",
       "      <td>B0122-45_3</td>\n",
       "      <td>1</td>\n",
       "    </tr>\n",
       "  </tbody>\n",
       "</table>\n",
       "<p>1932 rows × 2 columns</p>\n",
       "</div>"
      ],
      "text/plain": [
       "                 ID  data_rate_t+1_trend\n",
       "2       B0017-25_24                    1\n",
       "5       B0017-25_25                    0\n",
       "7       B0017-25_26                    0\n",
       "11      B0017-25_27                    1\n",
       "144      B0017-32_1                    1\n",
       "...             ...                  ...\n",
       "174665   B0122-43_1                    1\n",
       "174713   B0122-43_2                    0\n",
       "174776   B0122-45_1                    1\n",
       "174824   B0122-45_2                    1\n",
       "175148   B0122-45_3                    1\n",
       "\n",
       "[1932 rows x 2 columns]"
      ]
     },
     "execution_count": 140,
     "metadata": {},
     "output_type": "execute_result"
    }
   ],
   "source": [
    "model1 = LGBMClassifier(n_estimators=1000)\n",
    "tdf[\"class\"]=model1.fit(df[cols],df[\"class\"]).predict_proba(tdf[cols])[:,1]\n",
    "tdf[\"class\"]= (tdf[\"class\"]>0.4).astype(\"int\")\n",
    "x=tdf.copy()\n",
    "label=ss.columns[1]\n",
    "x[label]=x[\"class\"]\n",
    "pred1=x[ss.columns]\n",
    "pred1[label]=pred1[label].astype(\"int\")\n",
    "pred1"
   ]
  },
  {
   "cell_type": "code",
   "execution_count": 141,
   "id": "b9c8470a",
   "metadata": {},
   "outputs": [
    {
     "data": {
      "image/png": "[encoded data removed]",
      "text/plain": [
       "<Figure size 1440x720 with 1 Axes>"
      ]
     },
     "metadata": {
      "needs_background": "light"
     },
     "output_type": "display_data"
    },
    {
     "data": {
      "text/plain": [
       "<Figure size 432x288 with 0 Axes>"
      ]
     },
     "metadata": {},
     "output_type": "display_data"
    }
   ],
   "source": [
    "# feature importance\n",
    "feature_imp = pd.DataFrame(sorted(zip(model1.feature_importances_,cols)), columns=['Value','Feature']).head(10)\n",
    "plt.figure(figsize=(5, 5))\n",
    "sns.barplot(x=\"Value\", y=\"Feature\", data=feature_imp.sort_values(by=\"Value\", ascending=False))\n",
    "plt.title('LightGBM Features Importance')\n",
    "plt.tight_layout()\n",
    "plt.savefig('lgbm_importances-01.png')\n",
    "plt.show()\n"
   ]
  },
  {
   "cell_type": "markdown",
   "id": "b722db27",
   "metadata": {},
   "source": [
    "- # Model 2 - Train Without Lag Features"
   ]
  },
  {
   "cell_type": "code",
   "execution_count": 142,
   "id": "f9adc2f0",
   "metadata": {},
   "outputs": [
    {
     "data": {
      "text/plain": [
       "(131, 31)"
      ]
     },
     "execution_count": 142,
     "metadata": {},
     "output_type": "execute_result"
    }
   ],
   "source": [
    "cols=select_cols\n",
    "tdf=tdf[tdf.count_available_features==len(cols)]\n",
    "len(tdf), len(cols)"
   ]
  },
  {
   "cell_type": "code",
   "execution_count": 143,
   "id": "2a0095aa",
   "metadata": {
    "execution": {
     "iopub.execute_input": "2023-08-17T10:23:11.920959Z",
     "iopub.status.busy": "2023-08-17T10:23:11.920297Z",
     "iopub.status.idle": "2023-08-17T10:28:52.457582Z",
     "shell.execute_reply": "2023-08-17T10:28:52.456632Z"
    },
    "papermill": {
     "duration": 340.572566,
     "end_time": "2023-08-17T10:28:52.460270",
     "exception": false,
     "start_time": "2023-08-17T10:23:11.887704",
     "status": "completed"
    },
    "tags": []
   },
   "outputs": [
    {
     "name": "stderr",
     "output_type": "stream",
     "text": [
      "<ipython-input-143-f81dbfb24bc0>:8: SettingWithCopyWarning: \n",
      "A value is trying to be set on a copy of a slice from a DataFrame.\n",
      "Try using .loc[row_indexer,col_indexer] = value instead\n",
      "\n",
      "See the caveats in the documentation: https://pandas.pydata.org/pandas-docs/stable/user_guide/indexing.html#returning-a-view-versus-a-copy\n",
      "  pred2[label]=pred2[label].astype(\"int\")\n"
     ]
    },
    {
     "data": {
      "text/html": [
       "<div>\n",
       "<style scoped>\n",
       "    .dataframe tbody tr th:only-of-type {\n",
       "        vertical-align: middle;\n",
       "    }\n",
       "\n",
       "    .dataframe tbody tr th {\n",
       "        vertical-align: top;\n",
       "    }\n",
       "\n",
       "    .dataframe thead th {\n",
       "        text-align: right;\n",
       "    }\n",
       "</style>\n",
       "<table border=\"1\" class=\"dataframe\">\n",
       "  <thead>\n",
       "    <tr style=\"text-align: right;\">\n",
       "      <th></th>\n",
       "      <th>ID</th>\n",
       "      <th>data_rate_t+1_trend</th>\n",
       "    </tr>\n",
       "  </thead>\n",
       "  <tbody>\n",
       "    <tr>\n",
       "      <th>5</th>\n",
       "      <td>B0017-25_25</td>\n",
       "      <td>0</td>\n",
       "    </tr>\n",
       "    <tr>\n",
       "      <th>155</th>\n",
       "      <td>B0017-32_12</td>\n",
       "      <td>1</td>\n",
       "    </tr>\n",
       "    <tr>\n",
       "      <th>173</th>\n",
       "      <td>B0017-32_14</td>\n",
       "      <td>1</td>\n",
       "    </tr>\n",
       "    <tr>\n",
       "      <th>176</th>\n",
       "      <td>B0017-32_15</td>\n",
       "      <td>0</td>\n",
       "    </tr>\n",
       "    <tr>\n",
       "      <th>187</th>\n",
       "      <td>B0017-32_17</td>\n",
       "      <td>0</td>\n",
       "    </tr>\n",
       "    <tr>\n",
       "      <th>...</th>\n",
       "      <td>...</td>\n",
       "      <td>...</td>\n",
       "    </tr>\n",
       "    <tr>\n",
       "      <th>127716</th>\n",
       "      <td>B0093-23_30</td>\n",
       "      <td>1</td>\n",
       "    </tr>\n",
       "    <tr>\n",
       "      <th>128085</th>\n",
       "      <td>B0093-25_27</td>\n",
       "      <td>0</td>\n",
       "    </tr>\n",
       "    <tr>\n",
       "      <th>128130</th>\n",
       "      <td>B0093-25_30</td>\n",
       "      <td>1</td>\n",
       "    </tr>\n",
       "    <tr>\n",
       "      <th>128246</th>\n",
       "      <td>B0093-25_39</td>\n",
       "      <td>0</td>\n",
       "    </tr>\n",
       "    <tr>\n",
       "      <th>169161</th>\n",
       "      <td>B0119-12_12</td>\n",
       "      <td>0</td>\n",
       "    </tr>\n",
       "  </tbody>\n",
       "</table>\n",
       "<p>131 rows × 2 columns</p>\n",
       "</div>"
      ],
      "text/plain": [
       "                 ID  data_rate_t+1_trend\n",
       "5       B0017-25_25                    0\n",
       "155     B0017-32_12                    1\n",
       "173     B0017-32_14                    1\n",
       "176     B0017-32_15                    0\n",
       "187     B0017-32_17                    0\n",
       "...             ...                  ...\n",
       "127716  B0093-23_30                    1\n",
       "128085  B0093-25_27                    0\n",
       "128130  B0093-25_30                    1\n",
       "128246  B0093-25_39                    0\n",
       "169161  B0119-12_12                    0\n",
       "\n",
       "[131 rows x 2 columns]"
      ]
     },
     "execution_count": 143,
     "metadata": {},
     "output_type": "execute_result"
    }
   ],
   "source": [
    "\n",
    "model2 = LGBMClassifier(n_estimators=1000)\n",
    "tdf[\"class\"]=model2.fit(df[cols],df[\"class\"]).predict_proba(tdf[cols])[:,1]\n",
    "tdf[\"class\"]= (tdf[\"class\"]>0.4).astype(\"int\")\n",
    "x=tdf.copy()\n",
    "label=ss.columns[1]\n",
    "x[label]=x[\"class\"]\n",
    "pred2=x[ss.columns]\n",
    "pred2[label]=pred2[label].astype(\"int\")\n",
    "pred2"
   ]
  },
  {
   "cell_type": "code",
   "execution_count": 144,
   "id": "a8187946",
   "metadata": {
    "execution": {
     "iopub.execute_input": "2023-08-17T10:28:52.621524Z",
     "iopub.status.busy": "2023-08-17T10:28:52.620884Z",
     "iopub.status.idle": "2023-08-17T10:28:52.637677Z",
     "shell.execute_reply": "2023-08-17T10:28:52.636815Z"
    },
    "papermill": {
     "duration": 0.051149,
     "end_time": "2023-08-17T10:28:52.639838",
     "exception": false,
     "start_time": "2023-08-17T10:28:52.588689",
     "status": "completed"
    },
    "tags": []
   },
   "outputs": [
    {
     "data": {
      "text/html": [
       "<div>\n",
       "<style scoped>\n",
       "    .dataframe tbody tr th:only-of-type {\n",
       "        vertical-align: middle;\n",
       "    }\n",
       "\n",
       "    .dataframe tbody tr th {\n",
       "        vertical-align: top;\n",
       "    }\n",
       "\n",
       "    .dataframe thead th {\n",
       "        text-align: right;\n",
       "    }\n",
       "</style>\n",
       "<table border=\"1\" class=\"dataframe\">\n",
       "  <thead>\n",
       "    <tr style=\"text-align: right;\">\n",
       "      <th></th>\n",
       "      <th>data_rate_t+1_trend</th>\n",
       "    </tr>\n",
       "  </thead>\n",
       "  <tbody>\n",
       "    <tr>\n",
       "      <th>count</th>\n",
       "      <td>1932.000000</td>\n",
       "    </tr>\n",
       "    <tr>\n",
       "      <th>mean</th>\n",
       "      <td>0.699793</td>\n",
       "    </tr>\n",
       "    <tr>\n",
       "      <th>std</th>\n",
       "      <td>0.458467</td>\n",
       "    </tr>\n",
       "    <tr>\n",
       "      <th>min</th>\n",
       "      <td>0.000000</td>\n",
       "    </tr>\n",
       "    <tr>\n",
       "      <th>25%</th>\n",
       "      <td>0.000000</td>\n",
       "    </tr>\n",
       "    <tr>\n",
       "      <th>50%</th>\n",
       "      <td>1.000000</td>\n",
       "    </tr>\n",
       "    <tr>\n",
       "      <th>75%</th>\n",
       "      <td>1.000000</td>\n",
       "    </tr>\n",
       "    <tr>\n",
       "      <th>max</th>\n",
       "      <td>1.000000</td>\n",
       "    </tr>\n",
       "  </tbody>\n",
       "</table>\n",
       "</div>"
      ],
      "text/plain": [
       "       data_rate_t+1_trend\n",
       "count          1932.000000\n",
       "mean              0.699793\n",
       "std               0.458467\n",
       "min               0.000000\n",
       "25%               0.000000\n",
       "50%               1.000000\n",
       "75%               1.000000\n",
       "max               1.000000"
      ]
     },
     "execution_count": 144,
     "metadata": {},
     "output_type": "execute_result"
    }
   ],
   "source": [
    "# Append Predictions\n",
    "pred=pred1.append(pred2)\n",
    "pred=pred.drop_duplicates(\"ID\",keep=\"last\")\n",
    "pred.to_csv('prediction.csv',index=False)\n",
    "pred.describe()"
   ]
  },
  {
   "cell_type": "code",
   "execution_count": 147,
   "id": "11045acf",
   "metadata": {
    "papermill": {
     "duration": 0.033589,
     "end_time": "2023-08-17T10:28:53.281824",
     "exception": false,
     "start_time": "2023-08-17T10:28:53.248235",
     "status": "completed"
    },
    "tags": []
   },
   "outputs": [
    {
     "data": {
      "image/png": "[encoded data removed]",
      "text/plain": [
       "<Figure size 360x360 with 1 Axes>"
      ]
     },
     "metadata": {
      "needs_background": "light"
     },
     "output_type": "display_data"
    }
   ],
   "source": [
    "# feature importance\n",
    "feature_imp = pd.DataFrame(sorted(zip(model2.feature_importances_,cols)), columns=['Value','Feature']).head(10)\n",
    "plt.figure(figsize=(5, 5))\n",
    "sns.barplot(x=\"Value\", y=\"Feature\", data=feature_imp.sort_values(by=\"Value\", ascending=False))\n",
    "plt.title('LightGBM Features Importance')\n",
    "plt.tight_layout()\n",
    "plt.savefig('lgbm_importances-02.png')\n",
    "plt.show()\n"
   ]
  },
  {
   "cell_type": "code",
   "execution_count": null,
   "id": "659c5283",
   "metadata": {
    "papermill": {
     "duration": 0.033393,
     "end_time": "2023-08-17T10:28:53.348711",
     "exception": false,
     "start_time": "2023-08-17T10:28:53.315318",
     "status": "completed"
    },
    "tags": []
   },
   "outputs": [],
   "source": []
  }
 ],
 "metadata": {
  "kernelspec": {
   "display_name": "Python 3",
   "language": "python",
   "name": "python3"
  },
  "language_info": {
   "codemirror_mode": {
    "name": "ipython",
    "version": 3
   },
   "file_extension": ".py",
   "mimetype": "text/x-python",
   "name": "python",
   "nbconvert_exporter": "python",
   "pygments_lexer": "ipython3",
   "version": "3.8.8"
  },
  "papermill": {
   "default_parameters": {},
   "duration": 662.937726,
   "end_time": "2023-08-17T10:28:54.909513",
   "environment_variables": {},
   "exception": null,
   "input_path": "__notebook__.ipynb",
   "output_path": "__notebook__.ipynb",
   "parameters": {},
   "start_time": "2023-08-17T10:17:51.971787",
   "version": "2.4.0"
  }
 },
 "nbformat": 4,
 "nbformat_minor": 5
}
